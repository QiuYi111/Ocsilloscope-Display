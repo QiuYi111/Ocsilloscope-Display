{
 "cells": [
  {
   "cell_type": "code",
   "execution_count": 28,
   "id": "be3b0eb9",
   "metadata": {},
   "outputs": [
    {
     "name": "stdout",
     "output_type": "stream",
     "text": [
      "Processed 10_x_coords_binary_data.txt -> source\\CUT_10_x_coords_binary_data.txt\n",
      "Processed 10_y_coords_binary_data.txt -> source\\CUT_10_y_coords_binary_data.txt\n",
      "Processed 11_x_coords_binary_data.txt -> source\\CUT_11_x_coords_binary_data.txt\n",
      "Processed 11_y_coords_binary_data.txt -> source\\CUT_11_y_coords_binary_data.txt\n",
      "Processed 12_x_coords_binary_data.txt -> source\\CUT_12_x_coords_binary_data.txt\n",
      "Processed 12_y_coords_binary_data.txt -> source\\CUT_12_y_coords_binary_data.txt\n",
      "Processed 1_x_coords_binary_data.txt -> source\\CUT_1_x_coords_binary_data.txt\n",
      "Processed 1_y_coords_binary_data.txt -> source\\CUT_1_y_coords_binary_data.txt\n",
      "Processed 2_x_coords_binary_data.txt -> source\\CUT_2_x_coords_binary_data.txt\n",
      "Processed 2_y_coords_binary_data.txt -> source\\CUT_2_y_coords_binary_data.txt\n",
      "Processed 3_x_coords_binary_data.txt -> source\\CUT_3_x_coords_binary_data.txt\n",
      "Processed 3_y_coords_binary_data.txt -> source\\CUT_3_y_coords_binary_data.txt\n",
      "Processed 4_x_coords_binary_data.txt -> source\\CUT_4_x_coords_binary_data.txt\n",
      "Processed 4_y_coords_binary_data.txt -> source\\CUT_4_y_coords_binary_data.txt\n",
      "Processed 5_x_coords_binary_data.txt -> source\\CUT_5_x_coords_binary_data.txt\n",
      "Processed 5_y_coords_binary_data.txt -> source\\CUT_5_y_coords_binary_data.txt\n",
      "Processed 6_x_coords_binary_data.txt -> source\\CUT_6_x_coords_binary_data.txt\n",
      "Processed 6_y_coords_binary_data.txt -> source\\CUT_6_y_coords_binary_data.txt\n",
      "Processed 7_x_coords_binary_data.txt -> source\\CUT_7_x_coords_binary_data.txt\n",
      "Processed 7_y_coords_binary_data.txt -> source\\CUT_7_y_coords_binary_data.txt\n",
      "Processed 8_x_coords_binary_data.txt -> source\\CUT_8_x_coords_binary_data.txt\n",
      "Processed 8_y_coords_binary_data.txt -> source\\CUT_8_y_coords_binary_data.txt\n",
      "Processed 9_x_coords_binary_data.txt -> source\\CUT_9_x_coords_binary_data.txt\n",
      "Processed 9_y_coords_binary_data.txt -> source\\CUT_9_y_coords_binary_data.txt\n"
     ]
    }
   ],
   "source": [
    "import os\n",
    "\n",
    "def select_lines_from_file(input_file, output_file, num_lines):\n",
    "    with open(input_file, 'r') as f:\n",
    "        lines = f.readlines()\n",
    "    \n",
    "    total_lines = len(lines)\n",
    "    \n",
    "    if total_lines < num_lines:\n",
    "        raise ValueError(f\"Not enough lines in {input_file} to select {num_lines} lines.\")\n",
    "    \n",
    "    step = total_lines // num_lines\n",
    "    selected_lines = [lines[i*step].strip() for i in range(num_lines)]\n",
    "    \n",
    "    with open(output_file, 'w') as f:\n",
    "        for i in range(0, len(selected_lines), 4):\n",
    "            chunk = selected_lines[i:i+4]\n",
    "            f.write(\"\".join(chunk) +\"\\n\")\n",
    "\n",
    "def process_folder(folder_path, num_lines):\n",
    "    for filename in os.listdir(folder_path):\n",
    "        if filename.endswith(\".txt\"):\n",
    "            input_file = os.path.join(folder_path, filename)\n",
    "            output_file = os.path.join(folder_path, f\"CUT_{filename}\")\n",
    "            select_lines_from_file(input_file, output_file, num_lines)\n",
    "            print(f\"Processed {filename} -> {output_file}\")\n",
    "\n",
    "# Example usage:\n",
    "folder_path = 'source'  # 将此路径替换为你的文件夹路径\n",
    "num_lines_to_select = 800  # 将此数值替换为你需要选择的行数\n",
    "process_folder(folder_path, num_lines_to_select)\n"
   ]
  }
 ],
 "metadata": {
  "kernelspec": {
   "display_name": "Python 3 (ipykernel)",
   "language": "python",
   "name": "python3"
  },
  "language_info": {
   "codemirror_mode": {
    "name": "ipython",
    "version": 3
   },
   "file_extension": ".py",
   "mimetype": "text/x-python",
   "name": "python",
   "nbconvert_exporter": "python",
   "pygments_lexer": "ipython3",
   "version": "3.11.4"
  }
 },
 "nbformat": 4,
 "nbformat_minor": 5
}
