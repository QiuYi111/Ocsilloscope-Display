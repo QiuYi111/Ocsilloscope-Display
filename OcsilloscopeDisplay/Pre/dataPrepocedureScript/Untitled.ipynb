{
 "cells": [
  {
   "cell_type": "code",
   "execution_count": 7,
   "id": "cb5a06bb",
   "metadata": {},
   "outputs": [
    {
     "name": "stdout",
     "output_type": "stream",
     "text": [
      "结果文件路径: 1_x_coords_binary_data.txt\n",
      "结果文件路径: 2_x_coords_binary_data.txt\n",
      "结果文件路径: 3_x_coords_binary_data.txt\n",
      "结果文件路径: 4_x_coords_binary_data.txt\n",
      "结果文件路径: 5_x_coords_binary_data.txt\n",
      "结果文件路径: 6_x_coords_binary_data.txt\n",
      "结果文件路径: 7_x_coords_binary_data.txt\n",
      "结果文件路径: 8_x_coords_binary_data.txt\n",
      "结果文件路径: 9_x_coords_binary_data.txt\n",
      "结果文件路径: 10_x_coords_binary_data.txt\n",
      "结果文件路径: 11_x_coords_binary_data.txt\n",
      "结果文件路径: 12_x_coords_binary_data.txt\n"
     ]
    }
   ],
   "source": [
    "for i in range(1, 13):  # 从1到12，共12次循环\n",
    "    # 定义文件名\n",
    "    file_name = f'{i}_x_coords.mem'\n",
    "\n",
    "    # 定义文件路径\n",
    "    file_path = 'mem_files/' + file_name\n",
    "\n",
    "    # 读取文件内容\n",
    "    with open(file_path, 'r') as file:\n",
    "        hex_numbers = file.read().split()\n",
    "\n",
    "    # 转换十六进制数为8位二进制数，并加上双引号，每个数一行并末尾加逗号\n",
    "    binary_numbers = [f'\"{bin(int(hex_num, 16))[2:].zfill(8)}\",\\n' for hex_num in hex_numbers]\n",
    "\n",
    "    # 动态定义输出文件名\n",
    "    output_file_path = f'{i}_x_coords_binary_data.txt'\n",
    "\n",
    "    # 将结果写入新的文件，每行一个数据\n",
    "    with open(output_file_path, 'w') as output_file:\n",
    "        output_file.writelines(binary_numbers)\n",
    "\n",
    "    # 输出文件路径\n",
    "    print(f\"结果文件路径: {output_file_path}\")\n"
   ]
  },
  {
   "cell_type": "code",
   "execution_count": 14,
   "id": "319e2b34",
   "metadata": {},
   "outputs": [
    {
     "name": "stdout",
     "output_type": "stream",
     "text": [
      "1_x_coords.mem\n",
      "2_x_coords.mem\n",
      "3_x_coords.mem\n",
      "4_x_coords.mem\n",
      "5_x_coords.mem\n",
      "6_x_coords.mem\n",
      "7_x_coords.mem\n",
      "8_x_coords.mem\n",
      "9_x_coords.mem\n",
      "10_x_coords.mem\n",
      "11_x_coords.mem\n",
      "12_x_coords.mem\n"
     ]
    }
   ],
   "source": [
    "for i in range(12):\n",
    "#定义文件名\n",
    "  i+=1\n",
    "  i=str(i) \n",
    "  file_name=i+'_x_coords.mem'\n",
    "  print(file_name)"
   ]
  }
 ],
 "metadata": {
  "kernelspec": {
   "display_name": "Python 3 (ipykernel)",
   "language": "python",
   "name": "python3"
  },
  "language_info": {
   "codemirror_mode": {
    "name": "ipython",
    "version": 3
   },
   "file_extension": ".py",
   "mimetype": "text/x-python",
   "name": "python",
   "nbconvert_exporter": "python",
   "pygments_lexer": "ipython3",
   "version": "3.11.4"
  }
 },
 "nbformat": 4,
 "nbformat_minor": 5
}
