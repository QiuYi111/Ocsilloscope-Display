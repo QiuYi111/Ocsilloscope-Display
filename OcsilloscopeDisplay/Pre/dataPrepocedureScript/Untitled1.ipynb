{
 "cells": [
  {
   "cell_type": "code",
   "execution_count": 3,
   "id": "cb1d0117",
   "metadata": {
    "scrolled": true
   },
   "outputs": [
    {
     "name": "stdout",
     "output_type": "stream",
     "text": [
      "Renamed '10_x_coords.mem' to 'x10.mem'\n",
      "Renamed '10_y_coords.mem' to 'y10.mem'\n",
      "Renamed '11_x_coords.mem' to 'x11.mem'\n",
      "Renamed '11_y_coords.mem' to 'y11.mem'\n",
      "Renamed '12_x_coords.mem' to 'x12.mem'\n",
      "Renamed '12_y_coords.mem' to 'y12.mem'\n",
      "Renamed '1_x_coords.mem' to 'x1.mem'\n",
      "Renamed '1_y_coords.mem' to 'y1.mem'\n",
      "Renamed '2_x_coords.mem' to 'x2.mem'\n",
      "Renamed '2_y_coords.mem' to 'y2.mem'\n",
      "Renamed '3_x_coords.mem' to 'x3.mem'\n",
      "Renamed '3_y_coords.mem' to 'y3.mem'\n",
      "Renamed '4_x_coords.mem' to 'x4.mem'\n",
      "Renamed '4_y_coords.mem' to 'y4.mem'\n",
      "Renamed '5_x_coords.mem' to 'x5.mem'\n",
      "Renamed '5_y_coords.mem' to 'y5.mem'\n",
      "Renamed '6_x_coords.mem' to 'x6.mem'\n",
      "Renamed '6_y_coords.mem' to 'y6.mem'\n",
      "Renamed '7_x_coords.mem' to 'x7.mem'\n",
      "Renamed '7_y_coords.mem' to 'y7.mem'\n",
      "Renamed '8_x_coords.mem' to 'x8.mem'\n",
      "Renamed '8_y_coords.mem' to 'y8.mem'\n",
      "Renamed '9_x_coords.mem' to 'x9.mem'\n",
      "Renamed '9_y_coords.mem' to 'y9.mem'\n",
      "All files have been renamed successfully.\n"
     ]
    }
   ],
   "source": [
    "import os\n",
    "import re\n",
    "\n",
    "# 设置你的文件所在的目录\n",
    "directory = 'F:\\OcsilloscopeDisplay\\OcsilloscopeDisplay\\mem_files'\n",
    "\n",
    "# 编译正则表达式，用于匹配文件名和提取数字\n",
    "pattern = re.compile(r'(\\d+)_(x|y)_coords\\.mem')\n",
    "\n",
    "# 遍历目录中的所有文件\n",
    "for filename in os.listdir(directory):\n",
    "    match = pattern.match(filename)\n",
    "    if match:\n",
    "        # 提取数字和字母\n",
    "        number = match.group(1)\n",
    "        letter = match.group(2)\n",
    "        \n",
    "        # 构造新的文件名\n",
    "        new_filename = f\"{letter}{number}.mem\"\n",
    "        \n",
    "        # 构造完整的文件路径\n",
    "        old_file = os.path.join(directory, filename)\n",
    "        new_file = os.path.join(directory, new_filename)\n",
    "        \n",
    "        # 重命名文件\n",
    "        os.rename(old_file, new_file)\n",
    "        print(f\"Renamed '{filename}' to '{new_filename}'\")\n",
    "\n",
    "print(\"All files have been renamed successfully.\")"
   ]
  }
 ],
 "metadata": {
  "kernelspec": {
   "display_name": "Python 3 (ipykernel)",
   "language": "python",
   "name": "python3"
  },
  "language_info": {
   "codemirror_mode": {
    "name": "ipython",
    "version": 3
   },
   "file_extension": ".py",
   "mimetype": "text/x-python",
   "name": "python",
   "nbconvert_exporter": "python",
   "pygments_lexer": "ipython3",
   "version": "3.11.4"
  }
 },
 "nbformat": 4,
 "nbformat_minor": 5
}
